{
 "cells": [
  {
   "cell_type": "code",
   "execution_count": 143,
   "metadata": {},
   "outputs": [
    {
     "data": {
      "text/plain": [
       "'1.26.4'"
      ]
     },
     "execution_count": 143,
     "metadata": {},
     "output_type": "execute_result"
    }
   ],
   "source": [
    "import numpy as np\n",
    "import matplotlib.pyplot as plt\n",
    "import seaborn as sea\n",
    "from matplotlib.animation import FuncAnimation\n",
    "\n",
    "plt.style.use('seaborn-v0_8-dark')\n",
    "np.__version__"
   ]
  },
  {
   "cell_type": "markdown",
   "metadata": {},
   "source": [
    "### 1.1 EulerAngles to Rotation Matrix\n",
    "\n",
    "Following the ZYX convention, \n",
    "\n",
    "$$\n",
    "\\begin{align}\n",
    "R &= R_{z}(\\theta_{1}) \\cdot R_{y}(\\theta_{2}) \\cdot R_{x}(\\theta_{3}) \\\\\n",
    "\\implies R &= \\begin{bmatrix}\n",
    "\\cos(\\theta_1) & -\\sin(\\theta_1) & 0 \\\\\n",
    "\\sin(\\theta_1) & \\cos(\\theta_1) & 0 \\\\\n",
    "0 & 0 & 1\n",
    "\\end{bmatrix}\n",
    "\n",
    "\\begin{bmatrix}\n",
    "\\cos(\\theta_2) & 0 & \\sin(\\theta_2) \\\\\n",
    "0 & 1 & 0 \\\\\n",
    "-\\sin(\\theta_2) & 0 & \\cos(\\theta_2)\n",
    "\\end{bmatrix}\n",
    "\n",
    "\\begin{bmatrix}\n",
    "1 & 0 & 0 \\\\\n",
    "0 & \\cos(\\theta_3) & -\\sin(\\theta_3) \\\\\n",
    "0 & \\sin(\\theta_3) & \\cos(\\theta_3) \\\\\n",
    "\\end{bmatrix}\n",
    "\n",
    "\n",
    "\\end{align}\n",
    "$$\n"
   ]
  },
  {
   "cell_type": "code",
   "execution_count": 12,
   "metadata": {},
   "outputs": [
    {
     "data": {
      "text/plain": [
       "array([[ 6.12323400e-17, -5.00000000e-01, -8.66025404e-01],\n",
       "       [ 1.00000000e+00,  3.06161700e-17,  5.30287619e-17],\n",
       "       [ 0.00000000e+00, -8.66025404e-01,  5.00000000e-01]])"
      ]
     },
     "execution_count": 12,
     "metadata": {},
     "output_type": "execute_result"
    }
   ],
   "source": [
    "def getR(theta, axis):\n",
    "    if axis == 'x':\n",
    "        return np.array([[1, 0, 0],\n",
    "                        [0, np.cos(theta), -np.sin(theta)],\n",
    "                        [0, np.sin(theta), np.cos(theta)]])\n",
    "    elif axis == 'y':\n",
    "        return np.array([[np.cos(theta), 0, np.sin(theta)],\n",
    "                        [0, 1, 0],\n",
    "                        [-np.sin(theta), 0, np.cos(theta)]])``\n",
    "    elif axis == 'z':\n",
    "        return np.array([[np.cos(theta), -np.sin(theta), 0],\n",
    "                        [np.sin(theta), np.cos(theta), 0],\n",
    "                        [0, 0, 1]])    \n",
    "    \n",
    "\n",
    "def euler2R(theta):\n",
    "    return getR(theta[0], 'z') @ getR(theta[1], 'y') @ getR(theta[2], 'x')\n",
    "\n",
    "euler2R([np.pi/2, 0, -np.pi/3])"
   ]
  },
  {
   "cell_type": "markdown",
   "metadata": {},
   "source": [
    "### 1.2 Rotation Matrix to Euler Angles\n",
    "\n",
    "The final rotation matrix for ZYX convention is given by, \n",
    "$$\n",
    "\\begin{align}\n",
    "R = \\begin{bmatrix}\n",
    "\\cos(\\theta_1)\\cos(\\theta_2) & -\\cos(\\theta_1)\\sin(\\theta_3) + \\sin(\\theta_1)\\sin(\\theta_2)\\cos(\\theta_3) & \\cos(\\theta_1)\\sin(\\theta_2)\\sin(\\theta_3) + \\sin(\\theta_1)\\cos(\\theta_3) \\\\\n",
    "\\sin(\\theta_1)\\cos(\\theta_2) & -\\sin(\\theta_1)\\sin(\\theta_3) - \\cos(\\theta_1)\\sin(\\theta_2)\\cos(\\theta_3) & \\sin(\\theta_1)\\sin(\\theta_2)\\sin(\\theta_3) - \\cos(\\theta_1)\\cos(\\theta_3) \\\\\n",
    "-\\sin(\\theta_2) & \\cos(\\theta_2)\\sin(\\theta_3) & \\cos(\\theta_2)\\cos(\\theta_3)\n",
    "\\end{bmatrix}\n",
    "\\end{align}\n",
    "$$\n",
    "\n",
    "Therefore, upong solving we get, \n",
    "\n",
    "$$\n",
    "\\begin{align}\n",
    "\\theta_{1} &= \\arctan2(R_{[1, 0]}, R_{[0, 0]}) \\\\\n",
    "\\theta_{2} &= -\\arcsin(R_{[2,1]}) \\\\\n",
    "\\theta_{3} &= \\arctan2(R_{[2, 1]}, R_{[2, 2]}) \\\\\n",
    "\\end{align}\n",
    "$$"
   ]
  },
  {
   "cell_type": "code",
   "execution_count": 15,
   "metadata": {},
   "outputs": [
    {
     "data": {
      "text/plain": [
       "True"
      ]
     },
     "execution_count": 15,
     "metadata": {},
     "output_type": "execute_result"
    }
   ],
   "source": [
    "def R2euler(R):\n",
    "    if np.abs(R[2, 0]) != 1:\n",
    "        theta2 = -np.arcsin(R[2, 0])\n",
    "        cos_theta2 = np.cos(theta2)\n",
    "        theta1 = np.arctan2(R[2, 1] / cos_theta2, R[2, 2] / cos_theta2)  \n",
    "        theta3 = np.arctan2(R[1, 0] / cos_theta2, R[0, 0] / cos_theta2)  \n",
    "    else:\n",
    "        # where there is a gimbal lock\n",
    "        theta2 = np.pi / 2 if R[2, 0] == -1 else -np.pi / 2\n",
    "        theta1 = np.arctan2(-R[0, 1], R[1, 1])\n",
    "        theta3 = 0 \n",
    "\n",
    "    return theta1, theta2, theta3\n",
    "\n",
    "R2euler(euler2R([np.pi/2, 0, -np.pi/3])) == (-np.pi/3, 0, np.pi/2)"
   ]
  },
  {
   "cell_type": "markdown",
   "metadata": {},
   "source": [
    "### 2.1 3R manipulator EEF position"
   ]
  },
  {
   "cell_type": "code",
   "execution_count": 206,
   "metadata": {},
   "outputs": [],
   "source": [
    "class Manipulator:\n",
    "    def __init__(self, l1=1, l2=0.5, l3=0.25):\n",
    "        self.l1 = l1\n",
    "        self.l2 = l2\n",
    "        self.l3 = l3\n",
    "        \n",
    "        self.x1_init = np.array([self.l1, 0, 0])\n",
    "        self.x2_init = np.array([self.l2, 0, 0])\n",
    "        self.x3_init = np.array([self.l3, 0, 0])\n",
    "        \n",
    "        self.theta1 = self.theta2 = self.theta3 = 0\n",
    "\n",
    "    def forward_kinematics(self, theta1, theta2, theta3):\n",
    "        self.theta1 = np.deg2rad(theta1)\n",
    "        self.theta2 = np.deg2rad(theta2)\n",
    "        self.theta3 = np.deg2rad(theta3)\n",
    "        R01 = euler2R([self.theta1, 0, 0]) \n",
    "        R12 = euler2R([self.theta2, 0, 0])\n",
    "        R23 = euler2R([self.theta3, 0, 0])\n",
    "        \n",
    "        self.x1 = R01 @ (self.x1_init)\n",
    "        self.x2 = (R12 @ self.x2_init) + self.x1\n",
    "        self.x3 = (R23 @ self.x3_init) + self.x2\n",
    "        \n",
    "    def inverse_kinematics(self, x, y):\n",
    "        pass\n",
    "    \n",
    "    def visualize(self, alpha=1.0):\n",
    "        plt.plot([0, self.x1[0]], [0, self.x1[1]], 'r-', marker='o', alpha=alpha)\n",
    "        plt.plot([self.x1[0], self.x2[0]], [self.x1[1], self.x2[1]], 'g-', marker='o', alpha=alpha)\n",
    "        plt.plot([self.x2[0], self.x3[0]], [self.x2[1], self.x3[1]], 'b-', alpha=alpha)\n",
    "        \n",
    "        plt.ylim(-2, 2)\n",
    "        plt.xlim(-2, 2)\n",
    "        plt.grid(True)\n",
    "        "
   ]
  },
  {
   "cell_type": "code",
   "execution_count": 207,
   "metadata": {},
   "outputs": [],
   "source": [
    "arm = Manipulator()\n"
   ]
  },
  {
   "cell_type": "code",
   "execution_count": 208,
   "metadata": {},
   "outputs": [
    {
     "data": {
      "image/png": "[encoded data removed]",
      "text/plain": [
       "<Figure size 640x480 with 1 Axes>"
      ]
     },
     "metadata": {},
     "output_type": "display_data"
    }
   ],
   "source": [
    "arm.forward_kinematics(theta1=30, theta2=50, theta3=0)\n",
    "arm.visualize(alpha=0.5)\n"
   ]
  },
  {
   "cell_type": "code",
   "execution_count": null,
   "metadata": {},
   "outputs": [],
   "source": []
  }
 ],
 "metadata": {
  "kernelspec": {
   "display_name": "work",
   "language": "python",
   "name": "python3"
  },
  "language_info": {
   "codemirror_mode": {
    "name": "ipython",
    "version": 3
   },
   "file_extension": ".py",
   "mimetype": "text/x-python",
   "name": "python",
   "nbconvert_exporter": "python",
   "pygments_lexer": "ipython3",
   "version": "3.9.19"
  },
  "orig_nbformat": 4
 },
 "nbformat": 4,
 "nbformat_minor": 2
}
